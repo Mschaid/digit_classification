{
 "cells": [
  {
   "cell_type": "raw",
   "metadata": {},
   "source": [
    "---\n",
    "title: \"Digit EDA\"\n",
    "format: html\n",
    "---"
   ]
  },
  {
   "cell_type": "code",
   "execution_count": 1,
   "metadata": {},
   "outputs": [],
   "source": [
    "%load_ext autoreload\n",
    "%autoreload 2"
   ]
  },
  {
   "cell_type": "code",
   "execution_count": 93,
   "metadata": {},
   "outputs": [],
   "source": [
    "import numpy as np\n",
    "import matplotlib.pyplot as plt\n",
    "import pandas as pd\n",
    "import seaborn as sns\n",
    "import seaborn.objects as so\n",
    "from sklearn.datasets import load_digits\n",
    "from sklearn.model_selection import train_test_split, KFold\n",
    "from sklearn.neighbors import KNeighborsClassifier\n",
    "from typing import NewType"
   ]
  },
  {
   "cell_type": "code",
   "execution_count": 28,
   "metadata": {},
   "outputs": [
    {
     "data": {
      "text/plain": [
       "<matplotlib.image.AxesImage at 0x13e5302d150>"
      ]
     },
     "execution_count": 28,
     "metadata": {},
     "output_type": "execute_result"
    },
    {
     "data": {
      "image/png": "[encoded data removed]",
      "text/plain": [
       "<Figure size 640x480 with 1 Axes>"
      ]
     },
     "metadata": {},
     "output_type": "display_data"
    }
   ],
   "source": [
    "digits = load_digits(as_frame=True)\n",
    "image_ = digits.data.iloc[1000].to_numpy().reshape(8, 8)\n",
    "plt.imshow(image_, cmap='gray_r')"
   ]
  },
  {
   "cell_type": "code",
   "execution_count": 73,
   "metadata": {},
   "outputs": [
    {
     "data": {
      "image/png": "[encoded data removed]",
      "text/plain": [
       "<Figure size 1000x500 with 8 Axes>"
      ]
     },
     "metadata": {},
     "output_type": "display_data"
    }
   ],
   "source": [
    "def reshape_image(row: int, df: pd.DataFrame)-> np.array:\n",
    "    return df.iloc[row].to_numpy().reshape(8, 8)\n",
    "\n",
    "rows = [0,100,200, 300, 1000, 1100, 1200, 1300]\n",
    "\n",
    "images_reshaped = [reshape_image(row, digits.data) for row in rows]\n",
    "\n",
    "\n",
    "Plot = NewType('Plot', plt.plot)\n",
    "\n",
    "def plot_digits(images:np.array, row)-> Plot:\n",
    "    \n",
    "    fig_kw = {\"tight_layout\": True\n",
    "        \n",
    "        \n",
    "            }\n",
    "    \n",
    "    grid_shape = int(len(images)/2)\n",
    "    fig, ax = plt.subplots(nrows= 2, ncols = grid_shape, figsize = (10,5), **fig_kw)\n",
    "    \n",
    "    for image, ax, row in zip(images, ax.flatten(), rows):\n",
    "        ax.imshow(image, cmap='gray_r')\n",
    "        ax.set_title(digits.target[row])\n",
    "    # plt.tight_layout()\n",
    "    plt.show()\n",
    "    \n",
    "plot_digits(images_reshaped, rows)\n",
    "                          \n",
    "\n"
   ]
  },
  {
   "cell_type": "code",
   "execution_count": 90,
   "metadata": {},
   "outputs": [
    {
     "ename": "AttributeError",
     "evalue": "features",
     "output_type": "error",
     "traceback": [
      "\u001b[1;31m---------------------------------------------------------------------------\u001b[0m",
      "\u001b[1;31mKeyError\u001b[0m                                  Traceback (most recent call last)",
      "File \u001b[1;32mc:\\Users\\mds8301\\Anaconda3\\envs\\digits\\lib\\site-packages\\sklearn\\utils\\_bunch.py:35\u001b[0m, in \u001b[0;36mBunch.__getattr__\u001b[1;34m(self, key)\u001b[0m\n\u001b[0;32m     34\u001b[0m \u001b[39mtry\u001b[39;00m:\n\u001b[1;32m---> 35\u001b[0m     \u001b[39mreturn\u001b[39;00m \u001b[39mself\u001b[39;49m[key]\n\u001b[0;32m     36\u001b[0m \u001b[39mexcept\u001b[39;00m \u001b[39mKeyError\u001b[39;00m:\n",
      "\u001b[1;31mKeyError\u001b[0m: 'features'",
      "\nDuring handling of the above exception, another exception occurred:\n",
      "\u001b[1;31mAttributeError\u001b[0m                            Traceback (most recent call last)",
      "\u001b[1;32mc:\\Users\\mds8301\\Documents\\Github\\digit_classification\\notebooks\\digit_eda.ipynb Cell 6\u001b[0m in \u001b[0;36m<cell line: 2>\u001b[1;34m()\u001b[0m\n\u001b[0;32m      <a href='vscode-notebook-cell:/c%3A/Users/mds8301/Documents/Github/digit_classification/notebooks/digit_eda.ipynb#W6sZmlsZQ%3D%3D?line=0'>1</a>\u001b[0m dig_train, dig_test \u001b[39m=\u001b[39m train_test_split(digits\u001b[39m.\u001b[39mframe, test_size \u001b[39m=\u001b[39m \u001b[39m0.3\u001b[39m)\n\u001b[1;32m----> <a href='vscode-notebook-cell:/c%3A/Users/mds8301/Documents/Github/digit_classification/notebooks/digit_eda.ipynb#W6sZmlsZQ%3D%3D?line=1'>2</a>\u001b[0m digits\u001b[39m.\u001b[39;49mfeatures\n",
      "File \u001b[1;32mc:\\Users\\mds8301\\Anaconda3\\envs\\digits\\lib\\site-packages\\sklearn\\utils\\_bunch.py:37\u001b[0m, in \u001b[0;36mBunch.__getattr__\u001b[1;34m(self, key)\u001b[0m\n\u001b[0;32m     35\u001b[0m     \u001b[39mreturn\u001b[39;00m \u001b[39mself\u001b[39m[key]\n\u001b[0;32m     36\u001b[0m \u001b[39mexcept\u001b[39;00m \u001b[39mKeyError\u001b[39;00m:\n\u001b[1;32m---> 37\u001b[0m     \u001b[39mraise\u001b[39;00m \u001b[39mAttributeError\u001b[39;00m(key)\n",
      "\u001b[1;31mAttributeError\u001b[0m: features"
     ]
    }
   ],
   "source": [
    "dig_train, dig_test = train_test_split(digits.frame, test_size = 0.3)\n",
    "\n",
    "def xval_knn(data, features, target, k_fold = 4):\n",
    "    \n",
    "    kf = KFold(n_splits = k_folds, shuffle= True)\n",
    "    \n",
    "    all_rmse = list()\n",
    "    for train_index, test_index in kf.split(data):\n",
    "        \n",
    "        train = data.iloc[train_index]\n",
    "        test = data.iloc[test_index]\n",
    "    \n",
    "    \n",
    "   \n",
    "    "
   ]
  },
  {
   "cell_type": "code",
   "execution_count": 115,
   "metadata": {},
   "outputs": [
    {
     "ename": "NameError",
     "evalue": "name 'random' is not defined",
     "output_type": "error",
     "traceback": [
      "\u001b[1;31m---------------------------------------------------------------------------\u001b[0m",
      "\u001b[1;31mNameError\u001b[0m                                 Traceback (most recent call last)",
      "\u001b[1;32mc:\\Users\\mds8301\\Documents\\Github\\digit_classification\\notebooks\\digit_eda.ipynb Cell 7\u001b[0m in \u001b[0;36m<cell line: 1>\u001b[1;34m()\u001b[0m\n\u001b[1;32m----> <a href='vscode-notebook-cell:/c%3A/Users/mds8301/Documents/Github/digit_classification/notebooks/digit_eda.ipynb#X10sZmlsZQ%3D%3D?line=0'>1</a>\u001b[0m index\u001b[39m=\u001b[39mrandom(\u001b[39m10\u001b[39m)\n\u001b[0;32m      <a href='vscode-notebook-cell:/c%3A/Users/mds8301/Documents/Github/digit_classification/notebooks/digit_eda.ipynb#X10sZmlsZQ%3D%3D?line=2'>3</a>\u001b[0m digits\u001b[39m.\u001b[39mframe\u001b[39m.\u001b[39miloc[\u001b[39m1\u001b[39m:\u001b[39m10\u001b[39m,:]\n",
      "\u001b[1;31mNameError\u001b[0m: name 'random' is not defined"
     ]
    }
   ],
   "source": [
    "index=\n",
    "\n",
    "digits.frame.iloc[1:10,:]"
   ]
  },
  {
   "cell_type": "code",
   "execution_count": 131,
   "metadata": {},
   "outputs": [
    {
     "data": {
      "text/plain": [
       "0        5.0\n",
       "1        0.0\n",
       "2        0.0\n",
       "3        7.0\n",
       "4        0.0\n",
       "        ... \n",
       "1792     4.0\n",
       "1793     6.0\n",
       "1794     1.0\n",
       "1795     2.0\n",
       "1796    10.0\n",
       "Name: pixel_0_2, Length: 1797, dtype: float64"
      ]
     },
     "execution_count": 131,
     "metadata": {},
     "output_type": "execute_result"
    }
   ],
   "source": [
    "\n",
    "\n",
    "    "
   ]
  },
  {
   "cell_type": "code",
   "execution_count": null,
   "metadata": {},
   "outputs": [],
   "source": []
  }
 ],
 "metadata": {
  "kernelspec": {
   "display_name": "digits",
   "language": "python",
   "name": "python3"
  },
  "language_info": {
   "codemirror_mode": {
    "name": "ipython",
    "version": 3
   },
   "file_extension": ".py",
   "mimetype": "text/x-python",
   "name": "python",
   "nbconvert_exporter": "python",
   "pygments_lexer": "ipython3",
   "version": "3.10.6"
  },
  "orig_nbformat": 4,
  "vscode": {
   "interpreter": {
    "hash": "26b1b497ca87ef0f33c9d286366f75a5740a3756e4e15ac745694caf145bca78"
   }
  }
 },
 "nbformat": 4,
 "nbformat_minor": 2
}
